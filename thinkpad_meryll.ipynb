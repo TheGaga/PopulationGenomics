{
 "cells": [
  {
   "cell_type": "code",
   "execution_count": 1,
   "metadata": {},
   "outputs": [
    {
     "name": "stdout",
     "output_type": "stream",
     "text": [
      "Populating the interactive namespace from numpy and matplotlib\n"
     ]
    }
   ],
   "source": [
    "%pylab inline\n",
    "\n",
    "import time\n",
    "import tqdm\n",
    "import joblib\n",
    "import pandas as pd\n",
    "\n",
    "from sklearn.decomposition import IncrementalPCA"
   ]
  },
  {
   "cell_type": "code",
   "execution_count": 2,
   "metadata": {},
   "outputs": [],
   "source": [
    "individuals = joblib.load('data/chr21_patients.jb')\n",
    "incremental = IncrementalPCA(n_components=3, copy=False)"
   ]
  },
  {
   "cell_type": "code",
   "execution_count": null,
   "metadata": {},
   "outputs": [],
   "source": [
    "for index in tqdm.tqdm(range(len(individuals)//8)):\n",
    "    chr21 = pd.read_parquet('data/chr21.pq', columns=individuals[8*index:8*(index+1)]).values\n",
    "    chr21[chr21 == '0|0'] = 0\n",
    "    chr21[chr21 != 0] = 1\n",
    "    chr21 = chr21.astype('int8').transpose()\n",
    "    incremental.partial_fit(chr21)\n",
    "    del chr21\n",
    "    time.sleep(1)"
   ]
  },
  {
   "cell_type": "code",
   "execution_count": null,
   "metadata": {},
   "outputs": [],
   "source": []
  }
 ],
 "metadata": {
  "kernelspec": {
   "display_name": "Python 3",
   "language": "python",
   "name": "python3"
  },
  "language_info": {
   "codemirror_mode": {
    "name": "ipython",
    "version": 3
   },
   "file_extension": ".py",
   "mimetype": "text/x-python",
   "name": "python",
   "nbconvert_exporter": "python",
   "pygments_lexer": "ipython3",
   "version": "3.6.7"
  }
 },
 "nbformat": 4,
 "nbformat_minor": 2
}
